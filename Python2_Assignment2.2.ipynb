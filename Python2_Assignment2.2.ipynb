{
 "cells": [
  {
   "cell_type": "markdown",
   "metadata": {},
   "source": [
    "### 2.2 Program to print a pattern using nested for loop"
   ]
  },
  {
   "cell_type": "code",
   "execution_count": 7,
   "metadata": {},
   "outputs": [
    {
     "name": "stdout",
     "output_type": "stream",
     "text": [
      "\r\n",
      "* \r\n",
      "* * \r\n",
      "* * * \r\n",
      "* * * * \r\n",
      "* * * * * \r\n",
      "* * * * \r\n",
      "* * * \r\n",
      "* * \r\n",
      "* \r\n"
     ]
    }
   ],
   "source": [
    "n=5\n",
    "for rows in range(0,n):\n",
    "    for cols in range(0,rows):\n",
    "        print(\"*\", end=' ' )\n",
    "    print(\"\\r\")\n",
    "    \n",
    "for rows1 in range(n,0,-1):\n",
    "    for cols in range(0,rows1):\n",
    "        print(\"*\", end=' ')\n",
    "    print(\"\\r\")"
   ]
  },
  {
   "cell_type": "code",
   "execution_count": null,
   "metadata": {},
   "outputs": [],
   "source": []
  },
  {
   "cell_type": "code",
   "execution_count": null,
   "metadata": {},
   "outputs": [],
   "source": []
  }
 ],
 "metadata": {
  "kernelspec": {
   "display_name": "Python 3",
   "language": "python",
   "name": "python3"
  },
  "language_info": {
   "codemirror_mode": {
    "name": "ipython",
    "version": 3
   },
   "file_extension": ".py",
   "mimetype": "text/x-python",
   "name": "python",
   "nbconvert_exporter": "python",
   "pygments_lexer": "ipython3",
   "version": "3.7.0"
  }
 },
 "nbformat": 4,
 "nbformat_minor": 2
}
